{
 "cells": [
  {
   "cell_type": "code",
   "execution_count": 13,
   "id": "14eb3772-9c53-4236-8489-9dc08cf10649",
   "metadata": {},
   "outputs": [
    {
     "name": "stdin",
     "output_type": "stream",
     "text": [
      "Enter marks for test1 :  44\n",
      "Enter marks for test2 :  44\n",
      "Enter marks for test3 :  45\n"
     ]
    },
    {
     "name": "stdout",
     "output_type": "stream",
     "text": [
      "Average of best two test marks  out of three test’s marks is 44.5\n"
     ]
    }
   ],
   "source": [
    "m1 = int(input(\"Enter marks for test1 : \"))\n",
    "m2 = int(input(\"Enter marks for test2 : \"))\n",
    "m3 = int(input(\"Enter marks for test3 : \"))\n",
    "if m1 <= m2 and m1 <= m3: avg = (m2+m3)/2\n",
    "elif m2 <= m1 and m2 <= m3: avg = (m1+m3)/2\n",
    "elif m3 <= m1 and m2 <= m2: avg = (m1+m2)/2\n",
    "print(\"Average of best two test marks  out of three test’s marks is\", avg);"
   ]
  },
  {
   "cell_type": "code",
   "execution_count": 14,
   "id": "ff155be3-79d2-487d-8f62-8279f28b8549",
   "metadata": {},
   "outputs": [
    {
     "name": "stdin",
     "output_type": "stream",
     "text": [
      "Enter a value :  454\n"
     ]
    },
    {
     "name": "stdout",
     "output_type": "stream",
     "text": [
      "Palindrome\n",
      "4 appears 2 times\n",
      "5 appears 1 times\n"
     ]
    }
   ],
   "source": [
    "val = int(input(\"Enter a value : \"))\n",
    "str_val = str(val)\n",
    "if str_val == str_val[::-1]:\n",
    "  print(\"Palindrome\")\n",
    "else:\n",
    "  print(\"Not Palindrome\")\n",
    "for i in range(10):\n",
    "  if str_val.count(str(i)) > 0:\n",
    "     print(str(i),\"appears\", str_val.count(str(i)), \"times\");\n"
   ]
  },
  {
   "cell_type": "code",
   "execution_count": null,
   "id": "bbca1d9d-c510-43fb-8a52-0c7566409b19",
   "metadata": {},
   "outputs": [],
   "source": []
  }
 ],
 "metadata": {
  "kernelspec": {
   "display_name": "Python 3 (ipykernel)",
   "language": "python",
   "name": "python3"
  },
  "language_info": {
   "codemirror_mode": {
    "name": "ipython",
    "version": 3
   },
   "file_extension": ".py",
   "mimetype": "text/x-python",
   "name": "python",
   "nbconvert_exporter": "python",
   "pygments_lexer": "ipython3",
   "version": "3.11.3"
  }
 },
 "nbformat": 4,
 "nbformat_minor": 5
}
