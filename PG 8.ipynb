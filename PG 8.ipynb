{
 "cells": [
  {
   "cell_type": "code",
   "execution_count": 9,
   "id": "7a523806-f768-470f-a7d5-eb4c7ba0bcfe",
   "metadata": {},
   "outputs": [],
   "source": [
    "from bokeh.plotting import figure, show\n",
    "from bokeh.models import ColumnDataSource, Label, LabelSet\n",
    "from bokeh.io import output_file\n",
    "x = [1, 2, 3, 4, 5]\n",
    "y = [2, 4, 6, 8, 10]\n",
    "p = figure(title=\"Line Graph with Annotations and Legends\", x_axis_label='X-axis', y_axis_label='Y-axis')\n",
    "source = ColumnDataSource(data={'x': x, 'y': y})\n",
    "p.line('x', 'y', source=source, legend_label='Line Plot', line_color='blue', line_width=2)\n",
    "label = Label(x=3, y=6, x_units='data', y_units='data', text='Annotation',\n",
    "background_fill_color='lightgray', background_fill_alpha=0.7)\n",
    "p.add_layout(label)\n",
    "p.legend.title = 'Legend'\n",
    "p.legend.label_text_font_size = '12pt'\n",
    "p.legend.background_fill_alpha = 0.7\n",
    "labels = LabelSet(x='x', y='y', text='y', level='glyph', source=source, text_baseline='middle', text_align='center', text_font_size='12pt') \n",
    "p.add_layout(labels)\n",
    "output_file('line_graph_with_annotations_and_legends.html')\n",
    "show(p)\n"
   ]
  },
  {
   "cell_type": "code",
   "execution_count": 10,
   "id": "bb4fbdea-8b3d-471c-9ae4-ee3312ded209",
   "metadata": {},
   "outputs": [],
   "source": [
    "from bokeh.plotting import figure, show, output_file\n",
    "from bokeh.models import ColumnDataSource\n",
    "from math import pi\n",
    "\n",
    "x = [1, 2, 3, 4, 5]\n",
    "y = [2, 4, 6, 8, 10]\n",
    "output_file(\"bokeh_plots.html\")\n",
    "\n",
    "p1 = figure(title=\"Line Plot\", x_axis_label='X-axis', y_axis_label='Y-axis')\n",
    "p1.line(x, y, line_color='blue', line_width=2)\n",
    "\n",
    "p2 = figure(title=\"Scatter Plot\", x_axis_label='X-axis', y_axis_label='Y-axis')\n",
    "source_p2 = ColumnDataSource(data=dict(x=x, y=y))\n",
    "p2.scatter(x='x', y='y', size=10, color='green', alpha=0.6, source=source_p2)\n",
    "\n",
    "categories = ['Category A', 'Category B', 'Category C', 'Category D']\n",
    "values = [30, 45, 15, 10]\n",
    "\n",
    "p3 = figure(x_range=categories, title=\"Bar Plot\", x_axis_label='Categories', y_axis_label='Values')\n",
    "source_p3 = ColumnDataSource(data=dict(categories=categories, values=values))\n",
    "p3.vbar(x='categories', top='values', width=0.5, color='orange', source=source_p3)\n",
    "\n",
    "data = {'Categories': ['Category A', 'Category B', 'Category C', 'Category D'],\n",
    "        'Values': [30, 45, 15, 10]}\n",
    "angles = [pi/4, pi/2, pi, 1.5*pi]\n",
    "\n",
    "p4 = figure(title=\"Pie Chart\")\n",
    "source_p4 = ColumnDataSource(data=dict(start_angles=[angles[0], angles[1], angles[2], angles[3]], end_angles=[angles[1], angles[2], angles[3], 2*pi], fill_color=['red', 'green', 'blue', 'orange'], legend_label=categories))\n",
    "p4.wedge(x=0, y=0, radius=0.4, start_angle='start_angles', end_angle='end_angles', line_color=\"white\", fill_color='fill_color', legend_label='legend_label', source=source_p4)\n",
    "\n",
    "show(p1)\n",
    "show(p2)\n",
    "show(p3)\n",
    "show(p4)\n"
   ]
  },
  {
   "cell_type": "code",
   "execution_count": null,
   "id": "8f80c5ce-1b76-42cf-b40c-559f6feb071f",
   "metadata": {},
   "outputs": [],
   "source": []
  }
 ],
 "metadata": {
  "kernelspec": {
   "display_name": "Python 3 (ipykernel)",
   "language": "python",
   "name": "python3"
  },
  "language_info": {
   "codemirror_mode": {
    "name": "ipython",
    "version": 3
   },
   "file_extension": ".py",
   "mimetype": "text/x-python",
   "name": "python",
   "nbconvert_exporter": "python",
   "pygments_lexer": "ipython3",
   "version": "3.11.3"
  }
 },
 "nbformat": 4,
 "nbformat_minor": 5
}
