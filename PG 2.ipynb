{
 "cells": [
  {
   "cell_type": "code",
   "execution_count": 1,
   "id": "5304894e-cb5d-4d28-b401-7671665f4da6",
   "metadata": {},
   "outputs": [
    {
     "name": "stdin",
     "output_type": "stream",
     "text": [
      "Enter a number :  5\n"
     ]
    },
    {
     "name": "stdout",
     "output_type": "stream",
     "text": [
      "fn(5) = 3\n"
     ]
    }
   ],
   "source": [
    "def fn(n):\n",
    " if n == 1: return 0\n",
    " elif n == 2: return 1\n",
    " else:\n",
    "  return fn(n-1) + fn(n-2)\n",
    "num = int(input(\"Enter a number : \"))\n",
    "if num > 0:\n",
    " print(\"fn(\", num, \") = \",fn(num) , sep =\"\")\n",
    "else:\n",
    " print(\"Error in input\")\n"
   ]
  },
  {
   "cell_type": "code",
   "execution_count": 2,
   "id": "81cc3b1f-5eb3-49b0-9585-f1f270930dee",
   "metadata": {},
   "outputs": [
    {
     "name": "stdin",
     "output_type": "stream",
     "text": [
      "Enter a binary number:  0100\n"
     ]
    },
    {
     "name": "stdout",
     "output_type": "stream",
     "text": [
      "Decimal equivalent: 4\n"
     ]
    },
    {
     "name": "stdin",
     "output_type": "stream",
     "text": [
      "Enter an octal number:  4\n"
     ]
    },
    {
     "name": "stdout",
     "output_type": "stream",
     "text": [
      "Hexadecimal equivalent: 4\n"
     ]
    }
   ],
   "source": [
    "def binary_to_decimal(bin):\n",
    "    dec =  pow = 0\n",
    "    while bin != 0:\n",
    "        last = bin % 10\n",
    "        dec += last * (2 ** pow)\n",
    "        bin //= 10\n",
    "        pow += 1\n",
    "    return dec\n",
    "def octal_to_hexadecimal(oct):\n",
    "    dec = pow = 0\n",
    "    while oct != 0:\n",
    "        last = oct % 10\n",
    "        dec += last * (8 ** pow)\n",
    "        oct //= 10\n",
    "        pow += 1\n",
    "    hex = \"\"\n",
    "    hex_di = \"0123456789ABCDEF\"\n",
    "    while dec != 0:\n",
    "        rem = dec % 16\n",
    "        hex = hex_di[rem] + hex\n",
    "        dec //= 16\n",
    "    return hex\n",
    "binary = input(\"Enter a binary number: \")\n",
    "decimal = binary_to_decimal(int(binary))\n",
    "print(\"Decimal equivalent:\", decimal)\n",
    "octal = input(\"Enter an octal number: \")\n",
    "hexadeci = octal_to_hexadecimal(int(octal))\n",
    "print(\"Hexadecimal equivalent:\", hexadeci)\n"
   ]
  },
  {
   "cell_type": "code",
   "execution_count": null,
   "id": "ff59d0c5-ec47-43fc-a5e5-8abab75075f8",
   "metadata": {},
   "outputs": [],
   "source": []
  }
 ],
 "metadata": {
  "kernelspec": {
   "display_name": "Python 3 (ipykernel)",
   "language": "python",
   "name": "python3"
  },
  "language_info": {
   "codemirror_mode": {
    "name": "ipython",
    "version": 3
   },
   "file_extension": ".py",
   "mimetype": "text/x-python",
   "name": "python",
   "nbconvert_exporter": "python",
   "pygments_lexer": "ipython3",
   "version": "3.11.3"
  }
 },
 "nbformat": 4,
 "nbformat_minor": 5
}
