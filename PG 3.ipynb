{
 "cells": [
  {
   "cell_type": "code",
   "execution_count": 1,
   "id": "fd944d70-c610-4934-8a6f-fc40f8a716a6",
   "metadata": {},
   "outputs": [
    {
     "name": "stdin",
     "output_type": "stream",
     "text": [
      "Enter a sentence:  hi\n"
     ]
    },
    {
     "name": "stdout",
     "output_type": "stream",
     "text": [
      "Num of words: 1\n",
      "Num of digits: 0\n",
      "Num of uppercase letters: 0\n",
      "Num of lowercase letters: 2\n"
     ]
    }
   ],
   "source": [
    "def sentence(sent):\n",
    "    word = len(sent.split())\n",
    "    digit= upper= lower= 0\n",
    "    for char in sent:\n",
    "        if char.isdigit():\n",
    "            digit += 1\n",
    "        elif char.isupper():\n",
    "            upper += 1\n",
    "        elif char.islower():\n",
    "            lower += 1\n",
    "    return word, digit, upper, lower\n",
    "sent = input(\"Enter a sentence: \")\n",
    "word, digit, upper, lower = sentence(sent)\n",
    "print(\"Num of words:\", word)\n",
    "print(\"Num of digits:\", digit)\n",
    "print(\"Num of uppercase letters:\", upper)\n",
    "print(\"Num of lowercase letters:\", lower)\n"
   ]
  },
  {
   "cell_type": "code",
   "execution_count": 3,
   "id": "51827145-0696-4553-a427-83e5659111f8",
   "metadata": {},
   "outputs": [
    {
     "name": "stdin",
     "output_type": "stream",
     "text": [
      "String 1:  hi\n",
      "String 2:  helloi\n"
     ]
    },
    {
     "name": "stdout",
     "output_type": "stream",
     "text": [
      "Similarity:  0.16666666666666666\n"
     ]
    }
   ],
   "source": [
    "str1 = input(\"String 1: \")\n",
    "str2 = input(\"String 2: \")\n",
    "if len(str2) < len(str1):\n",
    "    short = len(str2)\n",
    "    long = len(str1)\n",
    "else:\n",
    "    short = len(str1)\n",
    "    long = len(str2) \n",
    "match = 0\n",
    "for i in range(short):\n",
    "    if str1[i] == str2[i]:\n",
    "        match += 1\n",
    "print(\"Similarity: \",match/long)\n"
   ]
  },
  {
   "cell_type": "code",
   "execution_count": null,
   "id": "e8abc640-8277-4700-91a6-bd53e56028aa",
   "metadata": {},
   "outputs": [],
   "source": []
  }
 ],
 "metadata": {
  "kernelspec": {
   "display_name": "Python 3 (ipykernel)",
   "language": "python",
   "name": "python3"
  },
  "language_info": {
   "codemirror_mode": {
    "name": "ipython",
    "version": 3
   },
   "file_extension": ".py",
   "mimetype": "text/x-python",
   "name": "python",
   "nbconvert_exporter": "python",
   "pygments_lexer": "ipython3",
   "version": "3.11.3"
  }
 },
 "nbformat": 4,
 "nbformat_minor": 5
}
